{
 "cells": [
  {
   "cell_type": "code",
   "execution_count": 1,
   "id": "d88a91ee-b3e4-4461-b4f1-c65cc089ddc1",
   "metadata": {},
   "outputs": [],
   "source": [
    "#import dependencies\n",
    "import pandas as pd\n",
    "import matplotlib.pyplot as plt \n",
    "from sklearn.preprocessing import StandardScaler\n",
    "from sklearn.decomposition import PCA\n",
    "from sklearn.cluster import KMeans\n",
    "from sklearn.manifold import TSNE"
   ]
  },
  {
   "cell_type": "markdown",
   "id": "fe121eff-81b2-4bbf-a959-568e61f1c307",
   "metadata": {},
   "source": [
    "### Part 1: Prepare the Data"
   ]
  },
  {
   "cell_type": "code",
   "execution_count": 3,
   "id": "cafed44e-d5d9-4414-bda7-d1b9900f17e2",
   "metadata": {
    "tags": []
   },
   "outputs": [
    {
     "data": {
      "text/html": [
       "<div>\n",
       "<style scoped>\n",
       "    .dataframe tbody tr th:only-of-type {\n",
       "        vertical-align: middle;\n",
       "    }\n",
       "\n",
       "    .dataframe tbody tr th {\n",
       "        vertical-align: top;\n",
       "    }\n",
       "\n",
       "    .dataframe thead th {\n",
       "        text-align: right;\n",
       "    }\n",
       "</style>\n",
       "<table border=\"1\" class=\"dataframe\">\n",
       "  <thead>\n",
       "    <tr style=\"text-align: right;\">\n",
       "      <th></th>\n",
       "      <th>AGE</th>\n",
       "      <th>SPHEQ</th>\n",
       "      <th>AL</th>\n",
       "      <th>ACD</th>\n",
       "      <th>LT</th>\n",
       "      <th>VCD</th>\n",
       "      <th>SPORTHR</th>\n",
       "      <th>READHR</th>\n",
       "      <th>COMPHR</th>\n",
       "      <th>STUDYHR</th>\n",
       "      <th>TVHR</th>\n",
       "      <th>DIOPTERHR</th>\n",
       "      <th>MOMMY</th>\n",
       "      <th>DADMY</th>\n",
       "      <th>MYOPIC</th>\n",
       "    </tr>\n",
       "  </thead>\n",
       "  <tbody>\n",
       "    <tr>\n",
       "      <th>0</th>\n",
       "      <td>6</td>\n",
       "      <td>-0.052</td>\n",
       "      <td>21.889999</td>\n",
       "      <td>3.690</td>\n",
       "      <td>3.498</td>\n",
       "      <td>14.70</td>\n",
       "      <td>45</td>\n",
       "      <td>8</td>\n",
       "      <td>0</td>\n",
       "      <td>0</td>\n",
       "      <td>10</td>\n",
       "      <td>34</td>\n",
       "      <td>1</td>\n",
       "      <td>1</td>\n",
       "      <td>1</td>\n",
       "    </tr>\n",
       "    <tr>\n",
       "      <th>1</th>\n",
       "      <td>6</td>\n",
       "      <td>0.608</td>\n",
       "      <td>22.379999</td>\n",
       "      <td>3.702</td>\n",
       "      <td>3.392</td>\n",
       "      <td>15.29</td>\n",
       "      <td>4</td>\n",
       "      <td>0</td>\n",
       "      <td>1</td>\n",
       "      <td>1</td>\n",
       "      <td>7</td>\n",
       "      <td>12</td>\n",
       "      <td>1</td>\n",
       "      <td>1</td>\n",
       "      <td>0</td>\n",
       "    </tr>\n",
       "    <tr>\n",
       "      <th>2</th>\n",
       "      <td>6</td>\n",
       "      <td>1.179</td>\n",
       "      <td>22.490000</td>\n",
       "      <td>3.462</td>\n",
       "      <td>3.514</td>\n",
       "      <td>15.52</td>\n",
       "      <td>14</td>\n",
       "      <td>0</td>\n",
       "      <td>2</td>\n",
       "      <td>0</td>\n",
       "      <td>10</td>\n",
       "      <td>14</td>\n",
       "      <td>0</td>\n",
       "      <td>0</td>\n",
       "      <td>0</td>\n",
       "    </tr>\n",
       "    <tr>\n",
       "      <th>3</th>\n",
       "      <td>6</td>\n",
       "      <td>0.525</td>\n",
       "      <td>22.200001</td>\n",
       "      <td>3.862</td>\n",
       "      <td>3.612</td>\n",
       "      <td>14.73</td>\n",
       "      <td>18</td>\n",
       "      <td>11</td>\n",
       "      <td>0</td>\n",
       "      <td>0</td>\n",
       "      <td>4</td>\n",
       "      <td>37</td>\n",
       "      <td>0</td>\n",
       "      <td>1</td>\n",
       "      <td>1</td>\n",
       "    </tr>\n",
       "    <tr>\n",
       "      <th>4</th>\n",
       "      <td>5</td>\n",
       "      <td>0.697</td>\n",
       "      <td>23.290001</td>\n",
       "      <td>3.676</td>\n",
       "      <td>3.454</td>\n",
       "      <td>16.16</td>\n",
       "      <td>14</td>\n",
       "      <td>0</td>\n",
       "      <td>0</td>\n",
       "      <td>0</td>\n",
       "      <td>4</td>\n",
       "      <td>4</td>\n",
       "      <td>1</td>\n",
       "      <td>0</td>\n",
       "      <td>0</td>\n",
       "    </tr>\n",
       "  </tbody>\n",
       "</table>\n",
       "</div>"
      ],
      "text/plain": [
       "   AGE  SPHEQ         AL    ACD     LT    VCD  SPORTHR  READHR  COMPHR  \\\n",
       "0    6 -0.052  21.889999  3.690  3.498  14.70       45       8       0   \n",
       "1    6  0.608  22.379999  3.702  3.392  15.29        4       0       1   \n",
       "2    6  1.179  22.490000  3.462  3.514  15.52       14       0       2   \n",
       "3    6  0.525  22.200001  3.862  3.612  14.73       18      11       0   \n",
       "4    5  0.697  23.290001  3.676  3.454  16.16       14       0       0   \n",
       "\n",
       "   STUDYHR  TVHR  DIOPTERHR  MOMMY  DADMY  MYOPIC  \n",
       "0        0    10         34      1      1       1  \n",
       "1        1     7         12      1      1       0  \n",
       "2        0    10         14      0      0       0  \n",
       "3        0     4         37      0      1       1  \n",
       "4        0     4          4      1      0       0  "
      ]
     },
     "execution_count": 3,
     "metadata": {},
     "output_type": "execute_result"
    }
   ],
   "source": [
    "#read in the file\n",
    "file = 'myopia.csv'\n",
    "df = pd.read_csv(file)\n",
    "df.head()"
   ]
  },
  {
   "cell_type": "code",
   "execution_count": 4,
   "id": "2eefa3ac-bd81-41dd-beb9-4a1c464747b0",
   "metadata": {},
   "outputs": [],
   "source": [
    "#set variables and remove MYOPIC column\n",
    "labels = df[\"MYOPIC\"]\n",
    "X = df.drop(\"MYOPIC\", axis=1)"
   ]
  },
  {
   "cell_type": "code",
   "execution_count": 5,
   "id": "16180639-d01a-4697-8d5f-6b487561df83",
   "metadata": {},
   "outputs": [],
   "source": [
    "#scale, fit, and transform\n",
    "scaler = StandardScaler()\n",
    "scaled_data = scaler.fit_transform(X)"
   ]
  },
  {
   "cell_type": "code",
   "execution_count": 7,
   "id": "818cc16c-0854-4503-84b9-98747c139c29",
   "metadata": {},
   "outputs": [
    {
     "data": {
      "text/html": [
       "<div>\n",
       "<style scoped>\n",
       "    .dataframe tbody tr th:only-of-type {\n",
       "        vertical-align: middle;\n",
       "    }\n",
       "\n",
       "    .dataframe tbody tr th {\n",
       "        vertical-align: top;\n",
       "    }\n",
       "\n",
       "    .dataframe thead th {\n",
       "        text-align: right;\n",
       "    }\n",
       "</style>\n",
       "<table border=\"1\" class=\"dataframe\">\n",
       "  <thead>\n",
       "    <tr style=\"text-align: right;\">\n",
       "      <th></th>\n",
       "      <th>AGE</th>\n",
       "      <th>SPHEQ</th>\n",
       "      <th>AL</th>\n",
       "      <th>ACD</th>\n",
       "      <th>LT</th>\n",
       "      <th>VCD</th>\n",
       "      <th>SPORTHR</th>\n",
       "      <th>READHR</th>\n",
       "      <th>COMPHR</th>\n",
       "      <th>STUDYHR</th>\n",
       "      <th>TVHR</th>\n",
       "      <th>DIOPTERHR</th>\n",
       "      <th>MOMMY</th>\n",
       "      <th>DADMY</th>\n",
       "    </tr>\n",
       "  </thead>\n",
       "  <tbody>\n",
       "    <tr>\n",
       "      <th>0</th>\n",
       "      <td>-0.420219</td>\n",
       "      <td>-1.363917</td>\n",
       "      <td>-0.892861</td>\n",
       "      <td>0.483784</td>\n",
       "      <td>-0.281443</td>\n",
       "      <td>-1.019792</td>\n",
       "      <td>4.150661</td>\n",
       "      <td>1.697450</td>\n",
       "      <td>-0.689311</td>\n",
       "      <td>-0.672996</td>\n",
       "      <td>0.184058</td>\n",
       "      <td>0.498304</td>\n",
       "      <td>0.987138</td>\n",
       "      <td>1.003241</td>\n",
       "    </tr>\n",
       "    <tr>\n",
       "      <th>1</th>\n",
       "      <td>-0.420219</td>\n",
       "      <td>-0.308612</td>\n",
       "      <td>-0.171840</td>\n",
       "      <td>0.535910</td>\n",
       "      <td>-0.967997</td>\n",
       "      <td>-0.130763</td>\n",
       "      <td>-0.998898</td>\n",
       "      <td>-0.912062</td>\n",
       "      <td>-0.361875</td>\n",
       "      <td>-0.221409</td>\n",
       "      <td>-0.340932</td>\n",
       "      <td>-0.875088</td>\n",
       "      <td>0.987138</td>\n",
       "      <td>1.003241</td>\n",
       "    </tr>\n",
       "    <tr>\n",
       "      <th>2</th>\n",
       "      <td>-0.420219</td>\n",
       "      <td>0.604386</td>\n",
       "      <td>-0.009977</td>\n",
       "      <td>-0.506628</td>\n",
       "      <td>-0.177812</td>\n",
       "      <td>0.215809</td>\n",
       "      <td>0.257092</td>\n",
       "      <td>-0.912062</td>\n",
       "      <td>-0.034439</td>\n",
       "      <td>-0.672996</td>\n",
       "      <td>0.184058</td>\n",
       "      <td>-0.750234</td>\n",
       "      <td>-1.013030</td>\n",
       "      <td>-0.996769</td>\n",
       "    </tr>\n",
       "    <tr>\n",
       "      <th>3</th>\n",
       "      <td>-0.420219</td>\n",
       "      <td>-0.441325</td>\n",
       "      <td>-0.436703</td>\n",
       "      <td>1.230936</td>\n",
       "      <td>0.456927</td>\n",
       "      <td>-0.974587</td>\n",
       "      <td>0.759488</td>\n",
       "      <td>2.676017</td>\n",
       "      <td>-0.689311</td>\n",
       "      <td>-0.672996</td>\n",
       "      <td>-0.865922</td>\n",
       "      <td>0.685585</td>\n",
       "      <td>-1.013030</td>\n",
       "      <td>1.003241</td>\n",
       "    </tr>\n",
       "    <tr>\n",
       "      <th>4</th>\n",
       "      <td>-1.823978</td>\n",
       "      <td>-0.166306</td>\n",
       "      <td>1.167204</td>\n",
       "      <td>0.422970</td>\n",
       "      <td>-0.566427</td>\n",
       "      <td>1.180178</td>\n",
       "      <td>0.257092</td>\n",
       "      <td>-0.912062</td>\n",
       "      <td>-0.689311</td>\n",
       "      <td>-0.672996</td>\n",
       "      <td>-0.865922</td>\n",
       "      <td>-1.374503</td>\n",
       "      <td>0.987138</td>\n",
       "      <td>-0.996769</td>\n",
       "    </tr>\n",
       "  </tbody>\n",
       "</table>\n",
       "</div>"
      ],
      "text/plain": [
       "        AGE     SPHEQ        AL       ACD        LT       VCD   SPORTHR  \\\n",
       "0 -0.420219 -1.363917 -0.892861  0.483784 -0.281443 -1.019792  4.150661   \n",
       "1 -0.420219 -0.308612 -0.171840  0.535910 -0.967997 -0.130763 -0.998898   \n",
       "2 -0.420219  0.604386 -0.009977 -0.506628 -0.177812  0.215809  0.257092   \n",
       "3 -0.420219 -0.441325 -0.436703  1.230936  0.456927 -0.974587  0.759488   \n",
       "4 -1.823978 -0.166306  1.167204  0.422970 -0.566427  1.180178  0.257092   \n",
       "\n",
       "     READHR    COMPHR   STUDYHR      TVHR  DIOPTERHR     MOMMY     DADMY  \n",
       "0  1.697450 -0.689311 -0.672996  0.184058   0.498304  0.987138  1.003241  \n",
       "1 -0.912062 -0.361875 -0.221409 -0.340932  -0.875088  0.987138  1.003241  \n",
       "2 -0.912062 -0.034439 -0.672996  0.184058  -0.750234 -1.013030 -0.996769  \n",
       "3  2.676017 -0.689311 -0.672996 -0.865922   0.685585 -1.013030  1.003241  \n",
       "4 -0.912062 -0.689311 -0.672996 -0.865922  -1.374503  0.987138 -0.996769  "
      ]
     },
     "execution_count": 7,
     "metadata": {},
     "output_type": "execute_result"
    }
   ],
   "source": [
    "#create scaled data frame\n",
    "scaled_df = pd.DataFrame(scaled_data, columns=X.columns)\n",
    "scaled_df.head()"
   ]
  },
  {
   "cell_type": "markdown",
   "id": "fba81ba9-0aa1-493b-8aba-6703931f25c7",
   "metadata": {},
   "source": [
    "### Part 2: Apply Dimensionality Reduction"
   ]
  },
  {
   "cell_type": "code",
   "execution_count": 9,
   "id": "4cb09e26-d624-46b2-b220-86d1ffbeb858",
   "metadata": {},
   "outputs": [],
   "source": [
    "#initialize PCA model\n",
    "pca = PCA(n_components=.90)\n",
    "myopia_pca = pca.fit_transform(scaled_df)"
   ]
  },
  {
   "cell_type": "code",
   "execution_count": 10,
   "id": "397f35ff-92f7-4030-8645-06420d6b8031",
   "metadata": {},
   "outputs": [
    {
     "data": {
      "text/html": [
       "<div>\n",
       "<style scoped>\n",
       "    .dataframe tbody tr th:only-of-type {\n",
       "        vertical-align: middle;\n",
       "    }\n",
       "\n",
       "    .dataframe tbody tr th {\n",
       "        vertical-align: top;\n",
       "    }\n",
       "\n",
       "    .dataframe thead th {\n",
       "        text-align: right;\n",
       "    }\n",
       "</style>\n",
       "<table border=\"1\" class=\"dataframe\">\n",
       "  <thead>\n",
       "    <tr style=\"text-align: right;\">\n",
       "      <th></th>\n",
       "      <th>principal component 1</th>\n",
       "      <th>principal component 2</th>\n",
       "      <th>principal component 3</th>\n",
       "      <th>principal component 4</th>\n",
       "      <th>principal component 5</th>\n",
       "      <th>principal component 6</th>\n",
       "      <th>principal component 7</th>\n",
       "      <th>principal component 8</th>\n",
       "      <th>principal component 9</th>\n",
       "      <th>principal component 10</th>\n",
       "    </tr>\n",
       "  </thead>\n",
       "  <tbody>\n",
       "    <tr>\n",
       "      <th>0</th>\n",
       "      <td>0.535503</td>\n",
       "      <td>1.145004</td>\n",
       "      <td>-1.385019</td>\n",
       "      <td>0.116006</td>\n",
       "      <td>-3.226691</td>\n",
       "      <td>-1.928459</td>\n",
       "      <td>-1.958892</td>\n",
       "      <td>-1.922997</td>\n",
       "      <td>0.026753</td>\n",
       "      <td>0.178144</td>\n",
       "    </tr>\n",
       "    <tr>\n",
       "      <th>1</th>\n",
       "      <td>-0.624706</td>\n",
       "      <td>-1.575786</td>\n",
       "      <td>-0.794253</td>\n",
       "      <td>1.156287</td>\n",
       "      <td>0.292256</td>\n",
       "      <td>0.349060</td>\n",
       "      <td>-0.455206</td>\n",
       "      <td>0.285332</td>\n",
       "      <td>0.689683</td>\n",
       "      <td>-0.557031</td>\n",
       "    </tr>\n",
       "    <tr>\n",
       "      <th>2</th>\n",
       "      <td>-0.933479</td>\n",
       "      <td>-0.717076</td>\n",
       "      <td>0.820150</td>\n",
       "      <td>-1.547638</td>\n",
       "      <td>0.173941</td>\n",
       "      <td>0.272783</td>\n",
       "      <td>0.025821</td>\n",
       "      <td>-0.030817</td>\n",
       "      <td>-0.431499</td>\n",
       "      <td>0.013336</td>\n",
       "    </tr>\n",
       "    <tr>\n",
       "      <th>3</th>\n",
       "      <td>0.106354</td>\n",
       "      <td>1.192475</td>\n",
       "      <td>-0.024441</td>\n",
       "      <td>1.507469</td>\n",
       "      <td>-2.356836</td>\n",
       "      <td>-0.023139</td>\n",
       "      <td>0.236418</td>\n",
       "      <td>-1.717109</td>\n",
       "      <td>-1.230785</td>\n",
       "      <td>-0.703400</td>\n",
       "    </tr>\n",
       "    <tr>\n",
       "      <th>4</th>\n",
       "      <td>-0.388503</td>\n",
       "      <td>-2.839655</td>\n",
       "      <td>-0.229767</td>\n",
       "      <td>-0.622510</td>\n",
       "      <td>0.271458</td>\n",
       "      <td>-0.928956</td>\n",
       "      <td>0.537900</td>\n",
       "      <td>-1.301787</td>\n",
       "      <td>0.279007</td>\n",
       "      <td>0.631183</td>\n",
       "    </tr>\n",
       "  </tbody>\n",
       "</table>\n",
       "</div>"
      ],
      "text/plain": [
       "   principal component 1  principal component 2  principal component 3  \\\n",
       "0               0.535503               1.145004              -1.385019   \n",
       "1              -0.624706              -1.575786              -0.794253   \n",
       "2              -0.933479              -0.717076               0.820150   \n",
       "3               0.106354               1.192475              -0.024441   \n",
       "4              -0.388503              -2.839655              -0.229767   \n",
       "\n",
       "   principal component 4  principal component 5  principal component 6  \\\n",
       "0               0.116006              -3.226691              -1.928459   \n",
       "1               1.156287               0.292256               0.349060   \n",
       "2              -1.547638               0.173941               0.272783   \n",
       "3               1.507469              -2.356836              -0.023139   \n",
       "4              -0.622510               0.271458              -0.928956   \n",
       "\n",
       "   principal component 7  principal component 8  principal component 9  \\\n",
       "0              -1.958892              -1.922997               0.026753   \n",
       "1              -0.455206               0.285332               0.689683   \n",
       "2               0.025821              -0.030817              -0.431499   \n",
       "3               0.236418              -1.717109              -1.230785   \n",
       "4               0.537900              -1.301787               0.279007   \n",
       "\n",
       "   principal component 10  \n",
       "0                0.178144  \n",
       "1               -0.557031  \n",
       "2                0.013336  \n",
       "3               -0.703400  \n",
       "4                0.631183  "
      ]
     },
     "execution_count": 10,
     "metadata": {},
     "output_type": "execute_result"
    }
   ],
   "source": [
    "#transform PCA data to a DataFrame\n",
    "myopia_df_pca = pd.DataFrame(\n",
    "    data = myopia_pca, columns=[\"principal component 1\", \"principal component 2\", \\\n",
    "                                \"principal component 3\", \"principal component 4\", \\\n",
    "                                \"principal component 5\", \"principal component 6\", \\\n",
    "                                \"principal component 7\", \"principal component 8\", \\\n",
    "                                \"principal component 9\", \"principal component 10\"])\n",
    "myopia_df_pca.head()"
   ]
  },
  {
   "cell_type": "code",
   "execution_count": 11,
   "id": "3c3c0a0d-b4e2-4cf0-8fc3-7dca7937b941",
   "metadata": {},
   "outputs": [
    {
     "data": {
      "text/plain": [
       "array([0.21177355, 0.15659716, 0.08688023, 0.08301762, 0.07584858,\n",
       "       0.06997878, 0.06486986, 0.06377808, 0.05393666, 0.05205566])"
      ]
     },
     "execution_count": 11,
     "metadata": {},
     "output_type": "execute_result"
    }
   ],
   "source": [
    "#fetch the explained variance\n",
    "pca.explained_variance_ratio_ "
   ]
  },
  {
   "cell_type": "code",
   "execution_count": 12,
   "id": "4cc8d028-d07e-43e0-b896-4565406a48e5",
   "metadata": {},
   "outputs": [
    {
     "name": "stderr",
     "output_type": "stream",
     "text": [
      "/Users/danielmurphy/opt/anaconda3/lib/python3.9/site-packages/sklearn/manifold/_t_sne.py:800: FutureWarning: The default initialization in TSNE will change from 'random' to 'pca' in 1.2.\n",
      "  warnings.warn(\n"
     ]
    }
   ],
   "source": [
    "#initialize the tsne model\n",
    "tsne = TSNE(learning_rate=250)\n",
    "\n",
    "#reduce dimensions\n",
    "tsne_features = tsne.fit_transform(myopia_df_pca)"
   ]
  },
  {
   "cell_type": "code",
   "execution_count": 13,
   "id": "23dcd263-6a01-44cd-b2ee-088a897a2a4e",
   "metadata": {},
   "outputs": [
    {
     "data": {
      "text/plain": [
       "(618, 2)"
      ]
     },
     "execution_count": 13,
     "metadata": {},
     "output_type": "execute_result"
    }
   ],
   "source": [
    "#check that dimensions have been reduced to two\n",
    "tsne_features.shape"
   ]
  },
  {
   "cell_type": "code",
   "execution_count": 15,
   "id": "b5352478-1035-4344-b9d9-8b29fdb69736",
   "metadata": {},
   "outputs": [
    {
     "data": {
      "image/png": "[encoded data removed]",
      "text/plain": [
       "<Figure size 432x288 with 1 Axes>"
      ]
     },
     "metadata": {
      "needs_background": "light"
     },
     "output_type": "display_data"
    }
   ],
   "source": [
    "#plot the results\n",
    "plt.scatter(tsne_features[:,0], tsne_features[:,1], c=labels)\n",
    "plt.show()"
   ]
  },
  {
   "cell_type": "markdown",
   "id": "bf7c1c8f-f187-4fb1-91f1-c524ae157d26",
   "metadata": {},
   "source": [
    "Results: There appear to be five distinct clusters."
   ]
  },
  {
   "cell_type": "markdown",
   "id": "f4a2c1a9-22b3-48c3-a5e3-1f638dabd386",
   "metadata": {},
   "source": [
    "### Part 3: Perform a Cluster Analysis with K-means"
   ]
  },
  {
   "cell_type": "code",
   "execution_count": 17,
   "id": "2e8cc019-f1ee-439e-a11d-379be9551ae5",
   "metadata": {},
   "outputs": [
    {
     "data": {
      "text/html": [
       "<div>\n",
       "<style scoped>\n",
       "    .dataframe tbody tr th:only-of-type {\n",
       "        vertical-align: middle;\n",
       "    }\n",
       "\n",
       "    .dataframe tbody tr th {\n",
       "        vertical-align: top;\n",
       "    }\n",
       "\n",
       "    .dataframe thead th {\n",
       "        text-align: right;\n",
       "    }\n",
       "</style>\n",
       "<table border=\"1\" class=\"dataframe\">\n",
       "  <thead>\n",
       "    <tr style=\"text-align: right;\">\n",
       "      <th></th>\n",
       "      <th>k</th>\n",
       "      <th>inertia</th>\n",
       "    </tr>\n",
       "  </thead>\n",
       "  <tbody>\n",
       "    <tr>\n",
       "      <th>0</th>\n",
       "      <td>1</td>\n",
       "      <td>8652.000000</td>\n",
       "    </tr>\n",
       "    <tr>\n",
       "      <th>1</th>\n",
       "      <td>2</td>\n",
       "      <td>7497.115123</td>\n",
       "    </tr>\n",
       "    <tr>\n",
       "      <th>2</th>\n",
       "      <td>3</td>\n",
       "      <td>6732.095466</td>\n",
       "    </tr>\n",
       "    <tr>\n",
       "      <th>3</th>\n",
       "      <td>4</td>\n",
       "      <td>6362.286058</td>\n",
       "    </tr>\n",
       "    <tr>\n",
       "      <th>4</th>\n",
       "      <td>5</td>\n",
       "      <td>6083.180361</td>\n",
       "    </tr>\n",
       "    <tr>\n",
       "      <th>5</th>\n",
       "      <td>6</td>\n",
       "      <td>5817.591226</td>\n",
       "    </tr>\n",
       "    <tr>\n",
       "      <th>6</th>\n",
       "      <td>7</td>\n",
       "      <td>5634.336407</td>\n",
       "    </tr>\n",
       "    <tr>\n",
       "      <th>7</th>\n",
       "      <td>8</td>\n",
       "      <td>5434.664962</td>\n",
       "    </tr>\n",
       "    <tr>\n",
       "      <th>8</th>\n",
       "      <td>9</td>\n",
       "      <td>5295.164517</td>\n",
       "    </tr>\n",
       "    <tr>\n",
       "      <th>9</th>\n",
       "      <td>10</td>\n",
       "      <td>5118.628831</td>\n",
       "    </tr>\n",
       "  </tbody>\n",
       "</table>\n",
       "</div>"
      ],
      "text/plain": [
       "    k      inertia\n",
       "0   1  8652.000000\n",
       "1   2  7497.115123\n",
       "2   3  6732.095466\n",
       "3   4  6362.286058\n",
       "4   5  6083.180361\n",
       "5   6  5817.591226\n",
       "6   7  5634.336407\n",
       "7   8  5434.664962\n",
       "8   9  5295.164517\n",
       "9  10  5118.628831"
      ]
     },
     "execution_count": 17,
     "metadata": {},
     "output_type": "execute_result"
    }
   ],
   "source": [
    "#define variables\n",
    "inertia = []\n",
    "k = list(range(1, 11))\n",
    "\n",
    "#calculate the inertia for the range of k values\n",
    "for i in k:\n",
    "    km = KMeans(n_clusters=i, random_state=0)\n",
    "    km.fit(scaled_df)\n",
    "    inertia.append(km.inertia_)\n",
    "\n",
    "#create the Elbow Curve using hvPlot\n",
    "elbow_data = {\"k\": k, \"inertia\": inertia}\n",
    "df_elbow = pd.DataFrame(elbow_data)\n",
    "df_elbow"
   ]
  },
  {
   "cell_type": "code",
   "execution_count": 18,
   "id": "bf92cede-2d16-42c2-b939-83cbe353ba1e",
   "metadata": {},
   "outputs": [
    {
     "data": {
      "image/png": "[encoded data removed]",
      "text/plain": [
       "<Figure size 432x288 with 1 Axes>"
      ]
     },
     "metadata": {
      "needs_background": "light"
     },
     "output_type": "display_data"
    }
   ],
   "source": [
    "#plot the elbow curve to find the best candidate(s) for k\n",
    "plt.plot(df_elbow['k'], df_elbow['inertia'])\n",
    "plt.xticks(range(1,11))\n",
    "plt.xlabel('Number of clusters')\n",
    "plt.ylabel('Inertia')\n",
    "plt.title('Elbow curve for myopia data')\n",
    "plt.show()"
   ]
  },
  {
   "cell_type": "markdown",
   "id": "05902735-da94-4a38-9de4-cb83613c2b0c",
   "metadata": {},
   "source": [
    "Result: Based on the graph there appears to be a distinct elbow at 3 clusters."
   ]
  },
  {
   "cell_type": "markdown",
   "id": "a84ff4c6-ea93-4c32-a271-20412c1c7184",
   "metadata": {},
   "source": [
    "### Part 4: Make a Recommendation"
   ]
  },
  {
   "cell_type": "markdown",
   "id": "68393c34-838d-41a7-aa64-0e1e64182719",
   "metadata": {},
   "source": [
    "Based on the results it does not appear the patients can be clustered. Our elbow curve shows three clusters but have a high intertial value which means that our dataset does not have an accurate cluster."
   ]
  },
  {
   "cell_type": "code",
   "execution_count": null,
   "id": "9445306e-371d-4087-8725-bbb2aeae50af",
   "metadata": {},
   "outputs": [],
   "source": []
  }
 ],
 "metadata": {
  "kernelspec": {
   "display_name": "Python 3 (ipykernel)",
   "language": "python",
   "name": "python3"
  },
  "language_info": {
   "codemirror_mode": {
    "name": "ipython",
    "version": 3
   },
   "file_extension": ".py",
   "mimetype": "text/x-python",
   "name": "python",
   "nbconvert_exporter": "python",
   "pygments_lexer": "ipython3",
   "version": "3.9.7"
  }
 },
 "nbformat": 4,
 "nbformat_minor": 5
}
